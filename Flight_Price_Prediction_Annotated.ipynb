{
 "cells": [
  {
   "cell_type": "markdown",
   "id": "f9a5410a",
   "metadata": {},
   "source": [
    "# Flight Price Prediction: Feature Engineering\n",
    "\n",
    "In this notebook, we focus on preparing flight ticket data for price prediction. Key steps include handling date-time data, extracting new features, and cleaning the data."
   ]
  },
  {
   "cell_type": "markdown",
   "id": "97d3d5f1",
   "metadata": {},
   "source": [
    "- The dataset contains date and time columns, which can be complex to handle. We will parse and extract meaningful features from them (e.g., journey day, month, departure hour)."
   ]
  },
  {
   "cell_type": "code",
   "execution_count": 1,
   "id": "b4e97e36",
   "metadata": {},
   "outputs": [
    {
     "name": "stderr",
     "output_type": "stream",
     "text": [
      "UsageError: unrecognized arguments: # show plots within notebook\n"
     ]
    }
   ],
   "source": [
    "# Importing essential libraries for data handling and visualization\n",
    "import pandas as pd  # for data manipulation\n",
    "import numpy as np   # for numerical computations\n",
    "import matplotlib.pyplot as plt  # for plotting\n",
    "import seaborn as sns  # for advanced visualizations\n",
    "\n",
    "%matplotlib inline  # show plots within notebook"
   ]
  },
  {
   "cell_type": "code",
   "execution_count": null,
   "id": "f08f0d73",
   "metadata": {},
   "outputs": [],
   "source": [
    "# 📥 Load the training dataset\n",
    "train_df = pd.read_excel('Data_Train.xlsx')"
   ]
  },
  {
   "cell_type": "code",
   "execution_count": null,
   "id": "205885a6",
   "metadata": {},
   "outputs": [],
   "source": [
    "# 📥 Load the testing dataset\n",
    "test_df = pd.read_excel('Test_set.xlsx')"
   ]
  },
  {
   "cell_type": "code",
   "execution_count": null,
   "id": "1e305718",
   "metadata": {},
   "outputs": [],
   "source": [
    "# 🔍 Display the first few records of the training dataset\n",
    "train_df.head()"
   ]
  },
  {
   "cell_type": "code",
   "execution_count": null,
   "id": "a6f1eb34",
   "metadata": {},
   "outputs": [],
   "source": [
    "# 📏 Check the shape (rows, columns) of the datasets\n",
    "print('Train shape:', train_df.shape)\n",
    "print('Test shape:', test_df.shape)"
   ]
  },
  {
   "cell_type": "code",
   "execution_count": null,
   "id": "b3e1fba2",
   "metadata": {},
   "outputs": [],
   "source": [
    "# 📊 Summary statistics for numerical features\n",
    "train_df.describe()"
   ]
  },
  {
   "cell_type": "code",
   "execution_count": null,
   "id": "cb3dc497",
   "metadata": {},
   "outputs": [],
   "source": [
    "# ℹ️ Overview of dataset including data types and missing values\n",
    "train_df.info()"
   ]
  },
  {
   "cell_type": "markdown",
   "id": "edcff9c8",
   "metadata": {},
   "source": [
    "## 🧹 Data Cleaning\n",
    "\n",
    "Now that we've loaded the datasets, we begin preprocessing by handling missing values, correcting data types, and removing inconsistencies."
   ]
  },
  {
   "cell_type": "code",
   "execution_count": null,
   "id": "a82337f5",
   "metadata": {},
   "outputs": [],
   "source": [
    "# Check for missing values\n",
    "train_df.isnull().sum()"
   ]
  },
  {
   "cell_type": "markdown",
   "id": "e7db9325",
   "metadata": {},
   "source": [
    "Observed that there are 2 missing values, drop these as they are very less"
   ]
  },
  {
   "cell_type": "code",
   "execution_count": null,
   "id": "b13695c4",
   "metadata": {},
   "outputs": [],
   "source": [
    "#drop the nullvalues\n",
    "train_df.dropna(inplace=True)"
   ]
  },
  {
   "cell_type": "code",
   "execution_count": null,
   "id": "cdc8d7a1",
   "metadata": {},
   "outputs": [],
   "source": [
    "train_df.isnull().sum()"
   ]
  },
  {
   "cell_type": "code",
   "execution_count": null,
   "id": "a5973354",
   "metadata": {},
   "outputs": [],
   "source": [
    "train_df.dtypes # datatypes"
   ]
  },
  {
   "cell_type": "markdown",
   "id": "3597174e",
   "metadata": {},
   "source": [
    "The datatypes of Date_of_journey,Arrival_Time and Dep_Time is object.\n",
    "So, we convert it into date and time for proper predicion.\n",
    "dt.day method will extract only day of that date\n",
    "dt.month method will extract only month of that date"
   ]
  },
  {
   "cell_type": "code",
   "execution_count": null,
   "id": "9c5aa5f9",
   "metadata": {},
   "outputs": [],
   "source": [
    "def change_into_datetime(col):\n",
    "    train_df[col]=pd.to_datetime(train_df[col])"
   ]
  },
  {
   "cell_type": "code",
   "execution_count": null,
   "id": "ed02dfdf",
   "metadata": {},
   "outputs": [],
   "source": [
    "train_df.columns"
   ]
  },
  {
   "cell_type": "code",
   "execution_count": null,
   "id": "2c087bdb",
   "metadata": {},
   "outputs": [],
   "source": [
    "for i in ['Date_of_Journey','Dep_Time', 'Arrival_Time']:\n",
    "    change_into_datetime(i)"
   ]
  },
  {
   "cell_type": "code",
   "execution_count": null,
   "id": "a8831ebd",
   "metadata": {},
   "outputs": [],
   "source": [
    "train_df.dtypes"
   ]
  },
  {
   "cell_type": "markdown",
   "id": "229e999d",
   "metadata": {},
   "source": [
    "Finding the categorical value"
   ]
  },
  {
   "cell_type": "code",
   "execution_count": null,
   "id": "f0cfc96d",
   "metadata": {},
   "outputs": [],
   "source": [
    "column=[column for column in train_df.columns if train_df[column].dtype=='object']\n",
    "column"
   ]
  },
  {
   "cell_type": "markdown",
   "id": "8ec18173",
   "metadata": {},
   "source": [
    "Finding the numerical value"
   ]
  },
  {
   "cell_type": "code",
   "execution_count": null,
   "id": "8e39c335",
   "metadata": {},
   "outputs": [],
   "source": [
    "numerical_col =[column for column in train_df.columns if train_df[column].dtype!='object']\n",
    "numerical_col"
   ]
  },
  {
   "cell_type": "code",
   "execution_count": null,
   "id": "b7cb4048",
   "metadata": {},
   "outputs": [],
   "source": [
    "# Distribution of flight prices\n",
    "plt.figure(figsize=(10,6))\n",
    "sns.histplot(train_df['Price'], kde=True)\n",
    "plt.title('Distribution of Flight Prices')\n",
    "plt.xlabel('Price')\n",
    "plt.ylabel('Frequency')\n",
    "plt.show()"
   ]
  },
  {
   "cell_type": "code",
   "execution_count": null,
   "id": "10316565",
   "metadata": {},
   "outputs": [],
   "source": [
    "# Count plot of airlines\n",
    "plt.figure(figsize=(12,6))\n",
    "sns.countplot(y='Airline', data=train_df, order=train_df['Airline'].value_counts().index)\n",
    "plt.title('Number of Flights by Airline')\n",
    "plt.xlabel('Count')\n",
    "plt.ylabel('Airline')\n",
    "plt.show()"
   ]
  },
  {
   "cell_type": "code",
   "execution_count": null,
   "id": "082dd894",
   "metadata": {},
   "outputs": [],
   "source": [
    "# Count plot for Source and Destination\n",
    "fig, ax = plt.subplots(1, 2, figsize=(14, 6))\n",
    "\n",
    "sns.countplot(data=train_df, x='Source', ax=ax[0])\n",
    "ax[0].set_title(\"Flight Source Distribution\")\n",
    "ax[0].tick_params(axis='x', rotation=45)\n",
    "\n",
    "sns.countplot(data=train_df, x='Destination', ax=ax[1])\n",
    "ax[1].set_title(\"Flight Destination Distribution\")\n",
    "ax[1].tick_params(axis='x', rotation=45)\n",
    "\n",
    "plt.tight_layout()\n",
    "plt.show()"
   ]
  },
  {
   "cell_type": "code",
   "execution_count": null,
   "id": "2ffb8765",
   "metadata": {},
   "outputs": [],
   "source": [
    "# Boxplot to see variation of price with different Airlines\n",
    "plt.figure(figsize=(14,6))\n",
    "sns.boxplot(data=train_df, x='Airline', y='Price')\n",
    "plt.xticks(rotation=45)\n",
    "plt.title('Flight Price by Airline')\n",
    "plt.show()"
   ]
  },
  {
   "cell_type": "code",
   "execution_count": null,
   "id": "21fd7696",
   "metadata": {},
   "outputs": [],
   "source": [
    "# Checking correlation heatmap (numerical features only)\n",
    "plt.figure(figsize=(10,6))\n",
    "sns.heatmap(train_df.corr(numeric_only=True), annot=True, cmap='coolwarm', fmt='.2f')\n",
    "plt.title(\"Correlation Heatmap\")\n",
    "plt.show()"
   ]
  },
  {
   "cell_type": "markdown",
   "id": "d796bf3b",
   "metadata": {},
   "source": [
    "Combine train_df and test_df into a single DataFrame"
   ]
  },
  {
   "cell_type": "code",
   "execution_count": null,
   "id": "b8514817",
   "metadata": {},
   "outputs": [],
   "source": [
    "# 🔍 Display the first few records of the training dataset\n",
    "train_df.head()"
   ]
  },
  {
   "cell_type": "code",
   "execution_count": null,
   "id": "e4d6e544",
   "metadata": {},
   "outputs": [],
   "source": [
    "final_df.tail()"
   ]
  },
  {
   "cell_type": "code",
   "execution_count": null,
   "id": "2f331509",
   "metadata": {},
   "outputs": [],
   "source": [
    "# 📏 Check the shape (rows, columns) of the datasets\n",
    "print('Train shape:', train_df.shape)\n",
    "print('Test shape:', test_df.shape)"
   ]
  },
  {
   "cell_type": "code",
   "execution_count": null,
   "id": "6c3870fd",
   "metadata": {},
   "outputs": [],
   "source": [
    "# 📊 Summary statistics for numerical features\n",
    "train_df.describe()"
   ]
  },
  {
   "cell_type": "code",
   "execution_count": null,
   "id": "039f7765",
   "metadata": {},
   "outputs": [],
   "source": [
    "final_df.isnull().sum()"
   ]
  },
  {
   "cell_type": "code",
   "execution_count": null,
   "id": "26d529d2",
   "metadata": {},
   "outputs": [],
   "source": [
    "# ℹ️ Overview of dataset including data types and missing values\n",
    "train_df.info()"
   ]
  },
  {
   "cell_type": "markdown",
   "id": "7a327c77",
   "metadata": {},
   "source": [
    "## Feature Engineering"
   ]
  },
  {
   "cell_type": "markdown",
   "id": "acfcc9c4",
   "metadata": {},
   "source": [
    "### Numerical Values"
   ]
  },
  {
   "cell_type": "code",
   "execution_count": null,
   "id": "29139ada",
   "metadata": {},
   "outputs": [],
   "source": [
    "final_df['Date']=final_df['Date_of_Journey'].str.split('/').str[0]\n",
    "final_df['Month']=final_df['Date_of_Journey'].str.split('/').str[1]\n",
    "final_df['Year']=final_df['Date_of_Journey'].str.split('/').str[2]"
   ]
  },
  {
   "cell_type": "code",
   "execution_count": null,
   "id": "2240c81a",
   "metadata": {},
   "outputs": [],
   "source": [
    "final_df.head(2)"
   ]
  },
  {
   "cell_type": "code",
   "execution_count": null,
   "id": "0d46aeec",
   "metadata": {},
   "outputs": [],
   "source": [
    "final_df['Date']=final_df['Date'].astype(int)\n",
    "final_df['Month']=final_df['Month'].astype(int)\n",
    "final_df['Year']=final_df['Year'].astype(int)"
   ]
  },
  {
   "cell_type": "code",
   "execution_count": null,
   "id": "ec7c4406",
   "metadata": {},
   "outputs": [],
   "source": [
    "# ℹ️ Overview of dataset including data types and missing values\n",
    "train_df.info()"
   ]
  },
  {
   "cell_type": "code",
   "execution_count": null,
   "id": "b5debb42",
   "metadata": {},
   "outputs": [],
   "source": [
    "final_df.drop('Date_of_Journey', axis=1, inplace=True)"
   ]
  },
  {
   "cell_type": "code",
   "execution_count": null,
   "id": "835c185d",
   "metadata": {},
   "outputs": [],
   "source": [
    "final_df.head(2)"
   ]
  },
  {
   "cell_type": "code",
   "execution_count": null,
   "id": "b79b1ab5",
   "metadata": {},
   "outputs": [],
   "source": [
    "final_df['Arrival_Time']=final_df['Arrival_Time'].apply(lambda x: x.split(' ')[0])"
   ]
  },
  {
   "cell_type": "code",
   "execution_count": null,
   "id": "bbecc434",
   "metadata": {},
   "outputs": [],
   "source": [
    "final_df['Arrival_hour']=final_df['Arrival_Time'].str.split(':').str[0]\n",
    "final_df['Arrival_min']=final_df['Arrival_Time'].str.split(':').str[1]"
   ]
  },
  {
   "cell_type": "code",
   "execution_count": null,
   "id": "33bdad77",
   "metadata": {},
   "outputs": [],
   "source": [
    "# 🔍 Display the first few records of the training dataset\n",
    "train_df.head()"
   ]
  },
  {
   "cell_type": "code",
   "execution_count": null,
   "id": "3111b052",
   "metadata": {},
   "outputs": [],
   "source": [
    "final_df['Arrival_hour']=final_df['Arrival_hour'].astype(int)\n",
    "final_df['Arrival_min']=final_df['Arrival_min'].astype(int)"
   ]
  },
  {
   "cell_type": "code",
   "execution_count": null,
   "id": "528a1590",
   "metadata": {},
   "outputs": [],
   "source": [
    "# ℹ️ Overview of dataset including data types and missing values\n",
    "train_df.info()"
   ]
  },
  {
   "cell_type": "code",
   "execution_count": null,
   "id": "316d6c11",
   "metadata": {},
   "outputs": [],
   "source": [
    "final_df.drop('Arrival_Time', axis=1, inplace=True)"
   ]
  },
  {
   "cell_type": "code",
   "execution_count": null,
   "id": "0ce680d8",
   "metadata": {},
   "outputs": [],
   "source": [
    "final_df.head(1)"
   ]
  },
  {
   "cell_type": "code",
   "execution_count": null,
   "id": "4dba9d7b",
   "metadata": {},
   "outputs": [],
   "source": [
    "final_df['Dep_hour']=final_df['Dep_Time'].str.split(':').str[0]\n",
    "final_df['Dep_min']=final_df['Dep_Time'].str.split(':').str[1]\n",
    "final_df.drop('Dep_Time', axis=1, inplace=True)"
   ]
  },
  {
   "cell_type": "code",
   "execution_count": null,
   "id": "bffa7db5",
   "metadata": {},
   "outputs": [],
   "source": [
    "final_df['Dep_hour']=final_df['Dep_hour'].astype(int)\n",
    "final_df['Dep_min']=final_df['Dep_min'].astype(int)"
   ]
  },
  {
   "cell_type": "code",
   "execution_count": null,
   "id": "5e92f562",
   "metadata": {},
   "outputs": [],
   "source": [
    "# ℹ️ Overview of dataset including data types and missing values\n",
    "train_df.info()"
   ]
  },
  {
   "cell_type": "code",
   "execution_count": null,
   "id": "3e8eaf5f",
   "metadata": {},
   "outputs": [],
   "source": [
    "final_df['Total_Stops'].unique()"
   ]
  },
  {
   "cell_type": "code",
   "execution_count": null,
   "id": "cfeb6f75",
   "metadata": {},
   "outputs": [],
   "source": [
    "final_df['Total_Stops']=final_df['Total_Stops'].map({'non-stop':0,'1 stop':1,'2 stops':2,'3 stops':3,'4 stops':4,'nan':1})"
   ]
  },
  {
   "cell_type": "code",
   "execution_count": null,
   "id": "13c8448c",
   "metadata": {},
   "outputs": [],
   "source": [
    "final_df.drop('Route',axis=1, inplace=True)"
   ]
  },
  {
   "cell_type": "code",
   "execution_count": null,
   "id": "e7e68bed",
   "metadata": {},
   "outputs": [],
   "source": [
    "# 🔍 Display the first few records of the training dataset\n",
    "train_df.head()"
   ]
  },
  {
   "cell_type": "code",
   "execution_count": null,
   "id": "cec1d72d",
   "metadata": {},
   "outputs": [],
   "source": [
    "final_df['duration_hour']=final_df['Duration'].str.split(' ').str[0].str.split('h').str[0]"
   ]
  },
  {
   "cell_type": "code",
   "execution_count": null,
   "id": "78e4b4f7",
   "metadata": {},
   "outputs": [],
   "source": [
    "final_df[final_df['duration_hour']=='5m']"
   ]
  },
  {
   "cell_type": "markdown",
   "id": "271fd5cb",
   "metadata": {},
   "source": [
    "Drop the rows - Duration 5m is not correct"
   ]
  },
  {
   "cell_type": "code",
   "execution_count": null,
   "id": "d51b12b6",
   "metadata": {},
   "outputs": [],
   "source": [
    "final_df.drop(6474,axis=0,inplace=True)\n",
    "final_df.drop(13343,axis=0,inplace=True)"
   ]
  },
  {
   "cell_type": "code",
   "execution_count": null,
   "id": "08ed5708",
   "metadata": {},
   "outputs": [],
   "source": [
    "final_df"
   ]
  },
  {
   "cell_type": "code",
   "execution_count": null,
   "id": "48f7d1cf",
   "metadata": {},
   "outputs": [],
   "source": [
    "final_df['duration_hour']=final_df['duration_hour'].astype('int')"
   ]
  },
  {
   "cell_type": "code",
   "execution_count": null,
   "id": "742bc2ef",
   "metadata": {},
   "outputs": [],
   "source": [
    "# ℹ️ Overview of dataset including data types and missing values\n",
    "train_df.info()"
   ]
  },
  {
   "cell_type": "code",
   "execution_count": null,
   "id": "81268702",
   "metadata": {},
   "outputs": [],
   "source": [
    "final_df.drop('Duration', axis=1, inplace=True)"
   ]
  },
  {
   "cell_type": "code",
   "execution_count": null,
   "id": "59fcfa20",
   "metadata": {},
   "outputs": [],
   "source": [
    "# 🔍 Display the first few records of the training dataset\n",
    "train_df.head()"
   ]
  },
  {
   "cell_type": "markdown",
   "id": "67663560",
   "metadata": {},
   "source": [
    "### Categorical Values"
   ]
  },
  {
   "cell_type": "code",
   "execution_count": null,
   "id": "a6e36fae",
   "metadata": {},
   "outputs": [],
   "source": [
    "final_df['Airline'].unique()"
   ]
  },
  {
   "cell_type": "code",
   "execution_count": null,
   "id": "3d24f7f0",
   "metadata": {},
   "outputs": [],
   "source": [
    "import sys\n",
    "import subprocess\n",
    "\n",
    "subprocess.check_call([sys.executable, \"-m\", \"pip\", \"install\", \"scikit-learn\"])"
   ]
  },
  {
   "cell_type": "code",
   "execution_count": null,
   "id": "a05bde6b",
   "metadata": {},
   "outputs": [],
   "source": [
    "# Import LabelEncoder to convert categorical string values into numeric labels\n",
    "from sklearn.preprocessing import LabelEncoder\n",
    "labelencoder=LabelEncoder()"
   ]
  },
  {
   "cell_type": "code",
   "execution_count": null,
   "id": "1344fa81",
   "metadata": {},
   "outputs": [],
   "source": [
    "# Convert categorical columns into numeric form so that they can be used in ML models\n",
    "final_df['Airline']=labelencoder.fit_transform(final_df['Airline'])\n",
    "final_df['Source']=labelencoder.fit_transform(final_df['Source'])\n",
    "final_df['Destination']=labelencoder.fit_transform(final_df['Destination'])\n",
    "final_df['Additional_Info']=labelencoder.fit_transform(final_df['Additional_Info'])"
   ]
  },
  {
   "cell_type": "code",
   "execution_count": null,
   "id": "e5277423",
   "metadata": {},
   "outputs": [],
   "source": [
    "# 🔍 Display the first few records of the training dataset\n",
    "train_df.head()"
   ]
  }
 ],
 "metadata": {
  "kernelspec": {
   "display_name": "ml_env",
   "language": "python",
   "name": "python3"
  },
  "language_info": {
   "codemirror_mode": {
    "name": "ipython",
    "version": 3
   },
   "file_extension": ".py",
   "mimetype": "text/x-python",
   "name": "python",
   "nbconvert_exporter": "python",
   "pygments_lexer": "ipython3",
   "version": "3.13.5"
  }
 },
 "nbformat": 4,
 "nbformat_minor": 5
}
